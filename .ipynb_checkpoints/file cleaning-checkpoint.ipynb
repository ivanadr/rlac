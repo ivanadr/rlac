{
 "cells": [
  {
   "cell_type": "code",
   "execution_count": 2,
   "id": "344caa54-3ca3-4db4-b6f9-038b601707dc",
   "metadata": {},
   "outputs": [
    {
     "name": "stdout",
     "output_type": "stream",
     "text": [
      "Processed file: Final Assignment.html\n",
      "Processed file: Assignment 1.html\n",
      "Processed file: index.html\n",
      "Processed file: Blog 1.html\n",
      "Processed file: Blog 2.html\n",
      "Processed file: Blog 4.html\n",
      "Processed file: Code for the Final Assignment.html\n",
      "Processed file: Assignment 2.html\n"
     ]
    }
   ],
   "source": [
    "import os\n",
    "\n",
    "def replace_home_with_index(directory):\n",
    "    # Iterate over all files in the specified directory\n",
    "    for filename in os.listdir(directory):\n",
    "        if filename.endswith(\".html\"):\n",
    "            filepath = os.path.join(directory, filename)\n",
    "            # Open each HTML file and read its contents\n",
    "            with open(filepath, 'r', encoding='utf-8') as file:\n",
    "                file_contents = file.read()\n",
    "\n",
    "            # Replace 'Home.html' with 'index.html'\n",
    "            updated_contents = file_contents.replace('Home.html', 'index.html')\n",
    "\n",
    "            # Write the updated contents back to the file\n",
    "            with open(filepath, 'w', encoding='utf-8') as file:\n",
    "                file.write(updated_contents)\n",
    "\n",
    "            print(f\"Processed file: {filename}\")\n",
    "\n",
    "# Specify the directory containing the HTML files\n",
    "directory_path = os.getcwd()\n",
    "replace_home_with_index(directory_path)\n"
   ]
  }
 ],
 "metadata": {
  "kernelspec": {
   "display_name": "Python 3 (ipykernel)",
   "language": "python",
   "name": "python3"
  },
  "language_info": {
   "codemirror_mode": {
    "name": "ipython",
    "version": 3
   },
   "file_extension": ".py",
   "mimetype": "text/x-python",
   "name": "python",
   "nbconvert_exporter": "python",
   "pygments_lexer": "ipython3",
   "version": "3.10.9"
  }
 },
 "nbformat": 4,
 "nbformat_minor": 5
}
